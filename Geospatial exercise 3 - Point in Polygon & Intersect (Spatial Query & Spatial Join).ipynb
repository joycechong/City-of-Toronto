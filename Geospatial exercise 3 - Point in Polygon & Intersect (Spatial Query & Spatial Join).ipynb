{
 "cells": [
  {
   "cell_type": "code",
   "execution_count": 65,
   "metadata": {},
   "outputs": [],
   "source": [
    "# Import necessary modules\n",
    "import pandas as pd\n",
    "import geopandas as gpd\n",
    "from shapely.geometry import Point, Polygon, LineString, MultiLineString, MultiPolygon, MultiPoint"
   ]
  },
  {
   "cell_type": "code",
   "execution_count": 8,
   "metadata": {},
   "outputs": [],
   "source": [
    "# There are basically two ways of conducting PIP in Shapely:\n",
    "\n",
    "# using a function called .within() that checks if a point is within a polygon\n",
    "# using a function called .contains() that checks if a polygon contains a point\n",
    "\n",
    "#these functions are not exclusive to Points can work on check with LineString and polygons"
   ]
  },
  {
   "cell_type": "code",
   "execution_count": 25,
   "metadata": {},
   "outputs": [
    {
     "name": "stdout",
     "output_type": "stream",
     "text": [
      "p1: POINT (24.952242 60.1696017) \n",
      "p2: POINT (24.976567 60.16125)\n"
     ]
    }
   ],
   "source": [
    "#first let's create our points\n",
    "p1 = Point(24.952242, 60.1696017)\n",
    "p2 = Point(24.976567, 60.1612500)\n",
    "\n",
    "print(\"p1:\", p1,\"\\np2:\",p2)"
   ]
  },
  {
   "cell_type": "code",
   "execution_count": 20,
   "metadata": {},
   "outputs": [
    {
     "data": {
      "image/svg+xml": [
       "<svg xmlns=\"http://www.w3.org/2000/svg\" xmlns:xlink=\"http://www.w3.org/1999/xlink\" width=\"100.0\" height=\"100.0\" viewBox=\"24.95079456 60.16905356 0.0028198800000041047 0.0011548800000014126\" preserveAspectRatio=\"xMinYMin meet\"><g transform=\"matrix(1,0,0,-1,0,120.339262)\"><path fill-rule=\"evenodd\" fill=\"#66cc99\" stroke=\"#555555\" stroke-width=\"5.639760000008209e-05\" opacity=\"0.6\" d=\"M 24.950899,60.169158 L 24.953492,60.169158 L 24.95351,60.170104 L 24.950958,60.16999 L 24.950899,60.169158 z\" /></g></svg>"
      ],
      "text/plain": [
       "<shapely.geometry.polygon.Polygon at 0x113a18ba8>"
      ]
     },
     "execution_count": 20,
     "metadata": {},
     "output_type": "execute_result"
    }
   ],
   "source": [
    "#create a polygon\n",
    "coords = [(24.950899, 60.169158), (24.953492, 60.169158), (24.953510, 60.170104), (24.950958, 60.169990)]\n",
    "poly = Polygon(coords)\n",
    "poly"
   ]
  },
  {
   "cell_type": "code",
   "execution_count": 29,
   "metadata": {},
   "outputs": [
    {
     "name": "stdout",
     "output_type": "stream",
     "text": [
      "True\n",
      "False\n"
     ]
    }
   ],
   "source": [
    "#let's check if the points are within polygon\n",
    "p1.within(poly)\n",
    "print(p1.within(poly))\n",
    "\n",
    "p2.within(poly)\n",
    "print(p2.within(poly))"
   ]
  },
  {
   "cell_type": "code",
   "execution_count": 34,
   "metadata": {},
   "outputs": [
    {
     "name": "stdout",
     "output_type": "stream",
     "text": [
      "POINT (24.952242 60.1696017)\n",
      "POINT (24.95224242849236 60.16960179038188)\n"
     ]
    }
   ],
   "source": [
    "#p1 is close to centroid of poly\n",
    "# Our point\n",
    "print(p1)\n",
    "\n",
    "# The centroid\n",
    "print(poly.centroid)\n"
   ]
  },
  {
   "cell_type": "code",
   "execution_count": 38,
   "metadata": {},
   "outputs": [
    {
     "data": {
      "text/plain": [
       "True"
      ]
     },
     "execution_count": 38,
     "metadata": {},
     "output_type": "execute_result"
    }
   ],
   "source": [
    "#It is also possible to do PIP other way around, i.e. to check if polygon contains a point\n",
    "poly.contains(p1)"
   ]
  },
  {
   "cell_type": "code",
   "execution_count": 37,
   "metadata": {},
   "outputs": [
    {
     "data": {
      "text/plain": [
       "False"
      ]
     },
     "execution_count": 37,
     "metadata": {},
     "output_type": "execute_result"
    }
   ],
   "source": [
    "poly.contains(p2)"
   ]
  },
  {
   "cell_type": "markdown",
   "metadata": {},
   "source": [
    "Which one should you use then? Well, it depends:\n",
    "\n",
    "if you have many points and just one polygon and you try to find out which one of them is inside the polygon:\n",
    "    you need to iterate over the points and check one at a time if it is within() the polygon specified\n",
    "\n",
    "if you have many polygons and just one point and you want to find out which polygon contains the point\n",
    "    you need to iterate over the polygons until you find a polygon that contains() the point specified (assuming there are no overlapping polygons)"
   ]
  },
  {
   "cell_type": "markdown",
   "metadata": {},
   "source": [
    "Intersect\n",
    "\n",
    "Another typical geospatial operation is to see if a geometry intersect or touches another one. \n",
    "\n",
    "The difference between these two is that:\n",
    "\n",
    "if objects intersect, the boundary and interior of an object needs to intersect in any way with those of the other.\n",
    "\n",
    "If an object touches the other one, it is only necessary to have (at least) a single point of their boundaries in common but their interiors shoud NOT intersect."
   ]
  },
  {
   "cell_type": "code",
   "execution_count": 39,
   "metadata": {},
   "outputs": [],
   "source": [
    "#lets create 2 linestrings\n",
    "\n",
    "# Create two lines\n",
    "line_a = LineString([(0, 0), (1, 1)])\n",
    "line_b = LineString([(1, 1), (0, 2)])"
   ]
  },
  {
   "cell_type": "code",
   "execution_count": 41,
   "metadata": {},
   "outputs": [
    {
     "data": {
      "text/plain": [
       "True"
      ]
     },
     "execution_count": 41,
     "metadata": {},
     "output_type": "execute_result"
    }
   ],
   "source": [
    "#let's see if they intersect\n",
    "line_a.intersects(line_b)"
   ]
  },
  {
   "cell_type": "code",
   "execution_count": 42,
   "metadata": {},
   "outputs": [
    {
     "data": {
      "text/plain": [
       "True"
      ]
     },
     "execution_count": 42,
     "metadata": {},
     "output_type": "execute_result"
    }
   ],
   "source": [
    "#let's see if they touch each other\n",
    "line_a.touches(line_b)"
   ]
  },
  {
   "cell_type": "code",
   "execution_count": 47,
   "metadata": {},
   "outputs": [
    {
     "data": {
      "image/svg+xml": [
       "<svg xmlns=\"http://www.w3.org/2000/svg\" xmlns:xlink=\"http://www.w3.org/1999/xlink\" width=\"100.0\" height=\"100.0\" viewBox=\"-0.08 -0.08 1.1600000000000001 2.16\" preserveAspectRatio=\"xMinYMin meet\"><g transform=\"matrix(1,0,0,-1,0,2.0)\"><g><polyline fill=\"none\" stroke=\"#66cc99\" stroke-width=\"0.0432\" points=\"0.0,0.0 1.0,1.0\" opacity=\"0.8\" /><polyline fill=\"none\" stroke=\"#66cc99\" stroke-width=\"0.0432\" points=\"1.0,1.0 0.0,2.0\" opacity=\"0.8\" /></g></g></svg>"
      ],
      "text/plain": [
       "<shapely.geometry.multilinestring.MultiLineString at 0x113a4c320>"
      ]
     },
     "execution_count": 47,
     "metadata": {},
     "output_type": "execute_result"
    }
   ],
   "source": [
    "#can create a multiline to plot for the 2 lines look like with each other\n",
    "multi_line = MultiLineString([line_a, line_b])\n",
    "multi_line"
   ]
  },
  {
   "cell_type": "code",
   "execution_count": 48,
   "metadata": {},
   "outputs": [
    {
     "data": {
      "text/plain": [
       "False"
      ]
     },
     "execution_count": 48,
     "metadata": {},
     "output_type": "execute_result"
    }
   ],
   "source": [
    "#if overlap fully they do not touch due to spatial relationship rules\n",
    "#let's check if the line touches itself\n",
    "line_a.touches(line_a)"
   ]
  },
  {
   "cell_type": "code",
   "execution_count": 49,
   "metadata": {},
   "outputs": [
    {
     "data": {
      "text/plain": [
       "True"
      ]
     },
     "execution_count": 49,
     "metadata": {},
     "output_type": "execute_result"
    }
   ],
   "source": [
    "line_a.intersects(line_a)"
   ]
  },
  {
   "cell_type": "markdown",
   "metadata": {},
   "source": [
    "Spatial Join"
   ]
  },
  {
   "cell_type": "code",
   "execution_count": 50,
   "metadata": {},
   "outputs": [],
   "source": [
    "# Filepath\n",
    "fp = \"/Users/JCHONG/City-of-Toronto/Pop15/Vaestotietoruudukko_2015.shp\"\n",
    "\n",
    "# Read the data\n",
    "pop = gpd.read_file(fp)"
   ]
  },
  {
   "cell_type": "code",
   "execution_count": 51,
   "metadata": {},
   "outputs": [
    {
     "data": {
      "text/html": [
       "<div>\n",
       "<style scoped>\n",
       "    .dataframe tbody tr th:only-of-type {\n",
       "        vertical-align: middle;\n",
       "    }\n",
       "\n",
       "    .dataframe tbody tr th {\n",
       "        vertical-align: top;\n",
       "    }\n",
       "\n",
       "    .dataframe thead th {\n",
       "        text-align: right;\n",
       "    }\n",
       "</style>\n",
       "<table border=\"1\" class=\"dataframe\">\n",
       "  <thead>\n",
       "    <tr style=\"text-align: right;\">\n",
       "      <th></th>\n",
       "      <th>INDEX</th>\n",
       "      <th>ASUKKAITA</th>\n",
       "      <th>ASVALJYYS</th>\n",
       "      <th>IKA0_9</th>\n",
       "      <th>IKA10_19</th>\n",
       "      <th>IKA20_29</th>\n",
       "      <th>IKA30_39</th>\n",
       "      <th>IKA40_49</th>\n",
       "      <th>IKA50_59</th>\n",
       "      <th>IKA60_69</th>\n",
       "      <th>IKA70_79</th>\n",
       "      <th>IKA_YLI80</th>\n",
       "      <th>geometry</th>\n",
       "    </tr>\n",
       "  </thead>\n",
       "  <tbody>\n",
       "    <tr>\n",
       "      <th>0</th>\n",
       "      <td>688</td>\n",
       "      <td>8</td>\n",
       "      <td>31.0</td>\n",
       "      <td>99</td>\n",
       "      <td>99</td>\n",
       "      <td>99</td>\n",
       "      <td>99</td>\n",
       "      <td>99</td>\n",
       "      <td>99</td>\n",
       "      <td>99</td>\n",
       "      <td>99</td>\n",
       "      <td>99</td>\n",
       "      <td>POLYGON ((25472499.99532626 6689749.005069185,...</td>\n",
       "    </tr>\n",
       "    <tr>\n",
       "      <th>1</th>\n",
       "      <td>703</td>\n",
       "      <td>6</td>\n",
       "      <td>42.0</td>\n",
       "      <td>99</td>\n",
       "      <td>99</td>\n",
       "      <td>99</td>\n",
       "      <td>99</td>\n",
       "      <td>99</td>\n",
       "      <td>99</td>\n",
       "      <td>99</td>\n",
       "      <td>99</td>\n",
       "      <td>99</td>\n",
       "      <td>POLYGON ((25472499.99532626 6685998.998064222,...</td>\n",
       "    </tr>\n",
       "    <tr>\n",
       "      <th>2</th>\n",
       "      <td>710</td>\n",
       "      <td>8</td>\n",
       "      <td>44.0</td>\n",
       "      <td>99</td>\n",
       "      <td>99</td>\n",
       "      <td>99</td>\n",
       "      <td>99</td>\n",
       "      <td>99</td>\n",
       "      <td>99</td>\n",
       "      <td>99</td>\n",
       "      <td>99</td>\n",
       "      <td>99</td>\n",
       "      <td>POLYGON ((25472499.99532626 6684249.004130407,...</td>\n",
       "    </tr>\n",
       "    <tr>\n",
       "      <th>3</th>\n",
       "      <td>711</td>\n",
       "      <td>7</td>\n",
       "      <td>64.0</td>\n",
       "      <td>99</td>\n",
       "      <td>99</td>\n",
       "      <td>99</td>\n",
       "      <td>99</td>\n",
       "      <td>99</td>\n",
       "      <td>99</td>\n",
       "      <td>99</td>\n",
       "      <td>99</td>\n",
       "      <td>99</td>\n",
       "      <td>POLYGON ((25472499.99532626 6683999.004997005,...</td>\n",
       "    </tr>\n",
       "    <tr>\n",
       "      <th>4</th>\n",
       "      <td>715</td>\n",
       "      <td>19</td>\n",
       "      <td>23.0</td>\n",
       "      <td>99</td>\n",
       "      <td>99</td>\n",
       "      <td>99</td>\n",
       "      <td>99</td>\n",
       "      <td>99</td>\n",
       "      <td>99</td>\n",
       "      <td>99</td>\n",
       "      <td>99</td>\n",
       "      <td>99</td>\n",
       "      <td>POLYGON ((25472499.99532626 6682998.998461431,...</td>\n",
       "    </tr>\n",
       "  </tbody>\n",
       "</table>\n",
       "</div>"
      ],
      "text/plain": [
       "   INDEX  ASUKKAITA  ASVALJYYS  IKA0_9  IKA10_19  IKA20_29  IKA30_39  \\\n",
       "0    688          8       31.0      99        99        99        99   \n",
       "1    703          6       42.0      99        99        99        99   \n",
       "2    710          8       44.0      99        99        99        99   \n",
       "3    711          7       64.0      99        99        99        99   \n",
       "4    715         19       23.0      99        99        99        99   \n",
       "\n",
       "   IKA40_49  IKA50_59  IKA60_69  IKA70_79  IKA_YLI80  \\\n",
       "0        99        99        99        99         99   \n",
       "1        99        99        99        99         99   \n",
       "2        99        99        99        99         99   \n",
       "3        99        99        99        99         99   \n",
       "4        99        99        99        99         99   \n",
       "\n",
       "                                            geometry  \n",
       "0  POLYGON ((25472499.99532626 6689749.005069185,...  \n",
       "1  POLYGON ((25472499.99532626 6685998.998064222,...  \n",
       "2  POLYGON ((25472499.99532626 6684249.004130407,...  \n",
       "3  POLYGON ((25472499.99532626 6683999.004997005,...  \n",
       "4  POLYGON ((25472499.99532626 6682998.998461431,...  "
      ]
     },
     "execution_count": 51,
     "metadata": {},
     "output_type": "execute_result"
    }
   ],
   "source": [
    "pop.head()"
   ]
  },
  {
   "cell_type": "code",
   "execution_count": 52,
   "metadata": {},
   "outputs": [],
   "source": [
    "#change the name of a column\n",
    "#Let’s change the name of that columns into pop15 so that it is more intuitive. Changing column names is easy in \n",
    "#Pandas / Geopandas using a function called rename() where we pass a dictionary to a parameter \n",
    "#columns={'oldname': 'newname'}.\n",
    "pop = pop.rename(columns ={'ASUKKAITA':'pop15'})"
   ]
  },
  {
   "cell_type": "code",
   "execution_count": 57,
   "metadata": {},
   "outputs": [
    {
     "data": {
      "text/html": [
       "<div>\n",
       "<style scoped>\n",
       "    .dataframe tbody tr th:only-of-type {\n",
       "        vertical-align: middle;\n",
       "    }\n",
       "\n",
       "    .dataframe tbody tr th {\n",
       "        vertical-align: top;\n",
       "    }\n",
       "\n",
       "    .dataframe thead th {\n",
       "        text-align: right;\n",
       "    }\n",
       "</style>\n",
       "<table border=\"1\" class=\"dataframe\">\n",
       "  <thead>\n",
       "    <tr style=\"text-align: right;\">\n",
       "      <th></th>\n",
       "      <th>pop15</th>\n",
       "      <th>geometry</th>\n",
       "    </tr>\n",
       "  </thead>\n",
       "  <tbody>\n",
       "    <tr>\n",
       "      <th>5782</th>\n",
       "      <td>9</td>\n",
       "      <td>POLYGON ((25513499.99632164 6685498.999797418,...</td>\n",
       "    </tr>\n",
       "    <tr>\n",
       "      <th>5783</th>\n",
       "      <td>30244</td>\n",
       "      <td>POLYGON ((25513999.999929 6659998.998172711, 2...</td>\n",
       "    </tr>\n",
       "  </tbody>\n",
       "</table>\n",
       "</div>"
      ],
      "text/plain": [
       "      pop15                                           geometry\n",
       "5782      9  POLYGON ((25513499.99632164 6685498.999797418,...\n",
       "5783  30244  POLYGON ((25513999.999929 6659998.998172711, 2..."
      ]
     },
     "execution_count": 57,
     "metadata": {},
     "output_type": "execute_result"
    }
   ],
   "source": [
    "#dropping all unnessecaary columns\n",
    "# Columns that will be sected\n",
    "selected_cols = ['pop15', 'geometry']\n",
    "\n",
    "# Select those columns\n",
    "pop = pop[selected_cols]\n",
    "\n",
    "# Let's see the last 2 rows\n",
    "pop.tail(2)\n"
   ]
  },
  {
   "cell_type": "code",
   "execution_count": 59,
   "metadata": {},
   "outputs": [
    {
     "data": {
      "text/html": [
       "<div>\n",
       "<style scoped>\n",
       "    .dataframe tbody tr th:only-of-type {\n",
       "        vertical-align: middle;\n",
       "    }\n",
       "\n",
       "    .dataframe tbody tr th {\n",
       "        vertical-align: top;\n",
       "    }\n",
       "\n",
       "    .dataframe thead th {\n",
       "        text-align: right;\n",
       "    }\n",
       "</style>\n",
       "<table border=\"1\" class=\"dataframe\">\n",
       "  <thead>\n",
       "    <tr style=\"text-align: right;\">\n",
       "      <th></th>\n",
       "      <th>address</th>\n",
       "      <th>id</th>\n",
       "      <th>geometry</th>\n",
       "    </tr>\n",
       "  </thead>\n",
       "  <tbody>\n",
       "    <tr>\n",
       "      <th>0</th>\n",
       "      <td>Kampinkuja 1, 00100 Helsinki, Finland</td>\n",
       "      <td>1001</td>\n",
       "      <td>POINT (25496123.30852197 6672833.941567578)</td>\n",
       "    </tr>\n",
       "    <tr>\n",
       "      <th>1</th>\n",
       "      <td>Kaivokatu 8, 00101 Helsinki, Finland</td>\n",
       "      <td>1002</td>\n",
       "      <td>POINT (25496774.28242895 6672999.698581985)</td>\n",
       "    </tr>\n",
       "  </tbody>\n",
       "</table>\n",
       "</div>"
      ],
      "text/plain": [
       "                                 address    id  \\\n",
       "0  Kampinkuja 1, 00100 Helsinki, Finland  1001   \n",
       "1   Kaivokatu 8, 00101 Helsinki, Finland  1002   \n",
       "\n",
       "                                      geometry  \n",
       "0  POINT (25496123.30852197 6672833.941567578)  \n",
       "1  POINT (25496774.28242895 6672999.698581985)  "
      ]
     },
     "execution_count": 59,
     "metadata": {},
     "output_type": "execute_result"
    }
   ],
   "source": [
    "# Addresses filpath\n",
    "addr_fp = r\"/Users/JChong/City-of-Toronto/Data/addresses_epsg3879.shp\"\n",
    "\n",
    "# Read data\n",
    "addresses = gpd.read_file(addr_fp)\n",
    "\n",
    "# Check the head of the file\n",
    "addresses.head(2)\n"
   ]
  },
  {
   "cell_type": "code",
   "execution_count": 60,
   "metadata": {},
   "outputs": [
    {
     "data": {
      "text/plain": [
       "True"
      ]
     },
     "execution_count": 60,
     "metadata": {},
     "output_type": "execute_result"
    }
   ],
   "source": [
    "#checking if their coordinate system is the same\n",
    "addresses.crs == pop.crs"
   ]
  },
  {
   "cell_type": "code",
   "execution_count": 61,
   "metadata": {},
   "outputs": [
    {
     "data": {
      "text/html": [
       "<div>\n",
       "<style scoped>\n",
       "    .dataframe tbody tr th:only-of-type {\n",
       "        vertical-align: middle;\n",
       "    }\n",
       "\n",
       "    .dataframe tbody tr th {\n",
       "        vertical-align: top;\n",
       "    }\n",
       "\n",
       "    .dataframe thead th {\n",
       "        text-align: right;\n",
       "    }\n",
       "</style>\n",
       "<table border=\"1\" class=\"dataframe\">\n",
       "  <thead>\n",
       "    <tr style=\"text-align: right;\">\n",
       "      <th></th>\n",
       "      <th>address</th>\n",
       "      <th>id</th>\n",
       "      <th>geometry</th>\n",
       "      <th>index_right</th>\n",
       "      <th>pop15</th>\n",
       "    </tr>\n",
       "  </thead>\n",
       "  <tbody>\n",
       "    <tr>\n",
       "      <th>0</th>\n",
       "      <td>Kampinkuja 1, 00100 Helsinki, Finland</td>\n",
       "      <td>1001</td>\n",
       "      <td>POINT (25496123.30852197 6672833.941567578)</td>\n",
       "      <td>3326</td>\n",
       "      <td>173</td>\n",
       "    </tr>\n",
       "    <tr>\n",
       "      <th>1</th>\n",
       "      <td>Kaivokatu 8, 00101 Helsinki, Finland</td>\n",
       "      <td>1002</td>\n",
       "      <td>POINT (25496774.28242895 6672999.698581985)</td>\n",
       "      <td>3449</td>\n",
       "      <td>31</td>\n",
       "    </tr>\n",
       "    <tr>\n",
       "      <th>10</th>\n",
       "      <td>Rautatientori 1, 00100 Helsinki, Finland</td>\n",
       "      <td>1011</td>\n",
       "      <td>POINT (25496808.64582102 6673146.836896984)</td>\n",
       "      <td>3449</td>\n",
       "      <td>31</td>\n",
       "    </tr>\n",
       "    <tr>\n",
       "      <th>3</th>\n",
       "      <td>Itäväylä, 00900 Helsinki, Finland</td>\n",
       "      <td>1004</td>\n",
       "      <td>POINT (25505098.34340289 6677972.568484426)</td>\n",
       "      <td>5112</td>\n",
       "      <td>353</td>\n",
       "    </tr>\n",
       "    <tr>\n",
       "      <th>4</th>\n",
       "      <td>Tyynenmerenkatu 9, 00220 Helsinki, Finland</td>\n",
       "      <td>1005</td>\n",
       "      <td>POINT (25495639.56049686 6671520.343245601)</td>\n",
       "      <td>3259</td>\n",
       "      <td>1397</td>\n",
       "    </tr>\n",
       "  </tbody>\n",
       "</table>\n",
       "</div>"
      ],
      "text/plain": [
       "                                       address    id  \\\n",
       "0        Kampinkuja 1, 00100 Helsinki, Finland  1001   \n",
       "1         Kaivokatu 8, 00101 Helsinki, Finland  1002   \n",
       "10    Rautatientori 1, 00100 Helsinki, Finland  1011   \n",
       "3            Itäväylä, 00900 Helsinki, Finland  1004   \n",
       "4   Tyynenmerenkatu 9, 00220 Helsinki, Finland  1005   \n",
       "\n",
       "                                       geometry  index_right  pop15  \n",
       "0   POINT (25496123.30852197 6672833.941567578)         3326    173  \n",
       "1   POINT (25496774.28242895 6672999.698581985)         3449     31  \n",
       "10  POINT (25496808.64582102 6673146.836896984)         3449     31  \n",
       "3   POINT (25505098.34340289 6677972.568484426)         5112    353  \n",
       "4   POINT (25495639.56049686 6671520.343245601)         3259   1397  "
      ]
     },
     "execution_count": 61,
     "metadata": {},
     "output_type": "execute_result"
    }
   ],
   "source": [
    "# Make a spatial join\n",
    "# op means operation so we want addresses that are within population polygons, other op include intersect and contain\n",
    "#how inner is use intersection of keys from both dfs; retain only left_df geometry column\n",
    "join = gpd.sjoin(addresses, pop, how=\"inner\", op=\"within\")\n",
    "\n",
    "join.head()"
   ]
  },
  {
   "cell_type": "code",
   "execution_count": 62,
   "metadata": {},
   "outputs": [],
   "source": [
    "# Output path\n",
    "outfp = r\"/Users/JChong/City-of-Toronto/Data/addresses_pop15_epsg3979.shp\"\n",
    "\n",
    "# Save to disk\n",
    "join.to_file(outfp)"
   ]
  },
  {
   "cell_type": "code",
   "execution_count": 67,
   "metadata": {},
   "outputs": [
    {
     "data": {
      "image/png": "[encoded data removed]",
      "text/plain": [
       "<Figure size 432x288 with 2 Axes>"
      ]
     },
     "metadata": {},
     "output_type": "display_data"
    }
   ],
   "source": [
    "#Plot the points and use the pop15 column to indicate the color. cmap -parameter tells to use a sequential colormap \n",
    "#for the values, markersize adjusts the size of a point, scheme parameter can be used to adjust the classification \n",
    "#method based on pysal, and legend tells that we want to have a legend.\n",
    "\n",
    "import matplotlib.pyplot as plt\n",
    "\n",
    "# Plot the points with population info\n",
    "join.plot(column='pop15', cmap=\"Reds\", markersize=7, legend=True);\n",
    "\n",
    "# Add title\n",
    "plt.title(\"Amount of inhabitants living close the the point\");\n",
    "\n",
    "# Remove white space around the figure\n",
    "plt.tight_layout()"
   ]
  },
  {
   "cell_type": "code",
   "execution_count": null,
   "metadata": {},
   "outputs": [],
   "source": []
  }
 ],
 "metadata": {
  "kernelspec": {
   "display_name": "Python 3",
   "language": "python",
   "name": "python3"
  },
  "language_info": {
   "codemirror_mode": {
    "name": "ipython",
    "version": 3
   },
   "file_extension": ".py",
   "mimetype": "text/x-python",
   "name": "python",
   "nbconvert_exporter": "python",
   "pygments_lexer": "ipython3",
   "version": "3.6.5"
  }
 },
 "nbformat": 4,
 "nbformat_minor": 2
}
